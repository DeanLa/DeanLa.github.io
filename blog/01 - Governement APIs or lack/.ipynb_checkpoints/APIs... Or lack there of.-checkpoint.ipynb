{
 "cells": [
  {
   "cell_type": "markdown",
   "metadata": {},
   "source": [
    "# Working with Government Data\n",
    "As part of my master's thesis I have found myself needing some epidemiological data as I wanted to predict the behaviour of [pertussis](WIKI...) (which I talk about in my [next blog post](LINK). I am currently working on a paper for which I had a very good, primary, fine-granulated data source, with many patients and featues on each one. This data is annonymized and classified, but fortunately the task at hand was to predict monthly totals. Those totals are published each week in the [Israel Ministry of Health's website](http://www.health.gov.il/UnitsOffice/HD/PH/epidemiology/Pages/epidemiology_report.aspx) (IMoH in short). This is a __blessing and a curse__ and turned out to be a big enough task to be worthy of its own blog post.\n",
    "### The Blessing\n",
    "My primary data goes up to the end of 2013. I could ask my partners at IMoH for new data, but as government works, it would take time. And after 7 years of working for the government myself, I know we are talking about __A LOT__ of time. This site comes handy now, as I can crawl for the new file every week, adjust my predictions, and more importantly - test my previous ones: I was kind of anxious to see how my predictions turn-out and this gives me a peace of mind.\n",
    "### The Curse\n",
    "As I said, this is government. Sadly, government does not tend to be at the peak of technology, and is always a few years behind. Therefore, one would expect a standardized API to query for disease data, but instead, it is just a website full of Excel files I need to download."
   ]
  },
  {
   "cell_type": "code",
   "execution_count": 1,
   "metadata": {
    "collapsed": true
   },
   "outputs": [],
   "source": [
    "from urllib import URLopener\n",
    "from datetime import datetime"
   ]
  },
  {
   "cell_type": "markdown",
   "metadata": {},
   "source": [
    "## Download all the files\n",
    "The task at hand was to download all the files. Luckily, they follow mostly the same path structure of `basename_week_year.xls/x`. Unluckily, it is not always exact - sometimes the week number as a leading zero, sometimes it won't, and sometimes it's an old Excel's `xls` and sometimes the new `xlsx`. This requires for many `try` and `ecxept`, which in a later step work on side module (check out my [github repo]() where it's in its early stage). I've also done a small logging step to tell if any files failed. The `logging` module was not working well for me as it did not write to files. It's probably my fault as I've never worked with it before, but for my small task `file.write` was enough.\n"
   ]
  },
  {
   "cell_type": "code",
   "execution_count": 45,
   "metadata": {
    "collapsed": false
   },
   "outputs": [
    {
     "name": "stdout",
     "output_type": "stream",
     "text": [
      "\n",
      "2000 \n",
      "2001 == 2001_38 FAILED == \n",
      "2002 \n",
      "2003 == 2003_18 FAILED == \n",
      "2004 \n",
      "2005 \n",
      "2006 \n",
      "2007 \n",
      "2008 \n",
      "2009 \n",
      "2010 \n",
      "2011 \n",
      "2012 == 2012_10 FAILED == \n",
      "2013 == 2013_28 FAILED == \n",
      "2014 \n",
      "2015 == 2015_50 FAILED == == 2015_51 FAILED == == 2015_52 FAILED ==\n"
     ]
    }
   ],
   "source": [
    "# Create paths for logging files and download loaction\n",
    "prefix =  datetime.now().strftime('./log/weeklies/%y%m%d_%H%M%S_')\n",
    "log_d = prefix+\"downloads.log\"\n",
    "log_f = prefix+\"FAILED.log\"\n",
    "base_loc = 'http://www.health.gov.il/PublicationsFiles/IWER'\n",
    "# URL object\n",
    "my_file = URLopener()\n",
    "\n",
    "for year in range (2000,2016):\n",
    "    print \"\\n\",year,\n",
    "    for week in range (1,54):\n",
    "        f = open(log_d, 'a')\n",
    "        f.write ('\\n{year}_{week}: '.format(week=week, year=year))\n",
    "        # All options for the file could be on the website\n",
    "        options = ['{base}{week:02d}_{year}.xls'.format(base=base_loc, week=week, year=year),\n",
    "                  '{base}{week}_{year}.xls'.format(base=base_loc, week=week, year=year),\n",
    "                  '{base}{week:02d}_{year}.xlsx'.format(base=base_loc, week=week, year=year),\n",
    "                  '{base}{week}_{year}.xlsx'.format(base=base_loc, week=week, year=year)]\n",
    "        for i,o in enumerate(options):\n",
    "            filetype = o.split(\".\")[-1]\n",
    "            try:\n",
    "                # Try different paths on remote, but always save on same path locally\n",
    "                my_file.retrieve(o, './csv/weeklies/{year}_{week:02d}.{ft}'.format(week=week, year=year, ft=filetype))\n",
    "                # If succeeds write which filetype (xls/x) was saved\n",
    "                f.write ('{ft}'.format(ft=filetype),)\n",
    "                # If download succeeds - close the log file and break the loop\n",
    "                f.close()\n",
    "                break\n",
    "            except:\n",
    "                # When option excepted, write try number to the log\n",
    "                f.write (\"{} \".format(i+1))\n",
    "                # If all options were exhausted, it has failed.\n",
    "                if i==len(options)-1 and week!=53:\n",
    "                    print \"== {year}_{week:02d} FAILED ==\".format(week=week, year=year),\n",
    "                    with open(log_f,'a') as failed:\n",
    "                        failed.write(\"{year}_{week:02d} FAILED\\n\".format(week=week, year=year))\n",
    "                    f.write(\"FAILED\")\n",
    "                    f.close()\n",
    "    f.close()                "
   ]
  },
  {
   "cell_type": "markdown",
   "metadata": {},
   "source": [
    "---\n",
    "Now, with a few failed downloads I can check whether it was a malfunction or just some missing files in the website. After checking manually I've realized those files are, in fact, missing from the website. IMoH gives weekly data, but also cumulative data, so this could be handled easily later.\n",
    "I'll create (manually, as download happens once and it's only 4 files) a list of the failed ones."
   ]
  },
  {
   "cell_type": "code",
   "execution_count": 2,
   "metadata": {
    "collapsed": true
   },
   "outputs": [],
   "source": [
    "missing = [[2001,38], [2003,18], [2012,10], [2013,28]]"
   ]
  },
  {
   "cell_type": "markdown",
   "metadata": {},
   "source": [
    "## Look for the disease\n",
    "I have all the files I need so now I can start creating the dataset. I'm looking for pertussis, but I'll make a function that can look for every disease in the files if asked for. It can also look for the cumulative sum in order to later compute weekly cases for the missing files.\n",
    "With those two options in mind, I'm hoping to one day in the near future create a complete project that will have a structued database for any disease on any date.\n",
    "\n",
    "I'm using the `xlrd` package. Sadly, this package and some others I've tried, lack the function of \"find in page\" which is guess made by the excel software engine itself. Therefore, I needed to iterate over the rows and columns until I had found the relevant cells."
   ]
  },
  {
   "cell_type": "code",
   "execution_count": 4,
   "metadata": {
    "collapsed": false
   },
   "outputs": [],
   "source": [
    "import xlrd as xl\n",
    "\n",
    "def weekly_disease(wb, disease='pertussis', cumsum=False):\n",
    "    '''gets a workbook and returns weekly disease cases for specified disease'''\n",
    "    disease = disease.lower()\n",
    "    # Get sheet - only 1 in each file\n",
    "    sh = wb.sheet_by_index(0)\n",
    "    # Find suspected rows\n",
    "    for row in range(0,sh.nrows):\n",
    "        try: # Value may not be a string and have no \"lower\" method\n",
    "            row_seek = sh.cell(rowx=row,colx=0).value.lower()\n",
    "        except:\n",
    "            continue\n",
    "        if 'week no' in row_seek.lower():\n",
    "            for col in range(2,sh.ncols):\n",
    "                try:\n",
    "                    col_seek = sh.cell(rowx=row+1,colx=col).value.lower()\n",
    "                except:\n",
    "                    continue\n",
    "                    \n",
    "                if 'weekly' in col_seek:\n",
    "                    my_col = col\n",
    "                    break\n",
    "        if disease in row_seek.lower():\n",
    "            my_row = row\n",
    "    cases = sh.cell(rowx=my_row, colx=my_col).value\n",
    "    if cumsum:\n",
    "        return cases, sh.cell(rowx=my_row, colx=my_col+1).value\n",
    "    return cases"
   ]
  },
  {
   "cell_type": "markdown",
   "metadata": {},
   "source": [
    "## Preparing the data set\n",
    "I now have a function to find needed data, and all I need is to iterate over all weeks and save an answer. This turned out to be a bit more complicated, as some weeks overlap 2 month, so I wanted to find the date of the first day of the week (which is Sunday in Israel). Apparentaly, because of some issue of Monday vs Sunday as first day of week, there is no exact match, so I'm creating a list asking for the first day of the first week of the year to check for differences."
   ]
  },
  {
   "cell_type": "code",
   "execution_count": 47,
   "metadata": {
    "collapsed": false
   },
   "outputs": [
    {
     "name": "stdout",
     "output_type": "stream",
     "text": [
      "2000_01 --- 2000W01 --- 2000-01-02\n",
      "2001_01 --- 2001W01 --- 2000-12-31\n",
      "2002_01 --- 2002W01 --- 2001-12-30\n",
      "2003_01 --- 2003W01 --- 2002-12-29\n",
      "2004_01 --- 2004W01 --- 2003-12-28\n",
      "2005_01 --- 2005W01 --- 2005-01-02\n",
      "2006_01 --- 2006W01 --- 2006-01-01\n",
      "2007_01 --- 2007W01 --- 2006-12-31\n",
      "2008_01 --- 2008W01 --- 2007-12-30\n",
      "2009_01 --- 2009W01 --- 2008-12-28\n",
      "2010_01 --- 2010W01 --- 2010-01-03\n",
      "2011_01 --- 2011W01 --- 2011-01-02\n",
      "2012_01 --- 2012W01 --- 2012-01-01\n",
      "2013_01 --- 2013W01 --- 2012-12-30\n",
      "2014_01 --- 2014W01 --- 2013-12-29\n",
      "2015_01 --- 2015W01 --- 2014-12-28\n"
     ]
    }
   ],
   "source": [
    "import os\n",
    "from isoweek import Week\n",
    "from datetime import timedelta\n",
    "\n",
    "files = os.listdir('./csv/weeklies')[:]\n",
    "for name in files:\n",
    "    week_n = int(name[5:7])\n",
    "    year = int(name[0:4])\n",
    "    week = Week(year,week_n)\n",
    "    date =  week.monday() - timedelta(days=1)\n",
    "    if week_n == 1:\n",
    "#         print year, week_n,'---', week, '---', date\n",
    "        print \"{y}_{wn:02d} --- {w} --- {d}\".format(y=year, wn=week_n, w=week, d=date)"
   ]
  },
  {
   "cell_type": "markdown",
   "metadata": {},
   "source": [
    "I did some manual labor and checked for the first day of each year to check some unwanted shifts caused due to the disagreement of week standards. I guess I could have found a more robust formula, but I was afraid of edge cases. Most were correct, but this years turned out a bit different:\n",
    "\n",
    "|Year|First day|difference|\n",
    "|----|:-------:|:----------:|\n",
    "|2000|01 - 01|-1|\n",
    "|2009|01 - 04|+7|\n",
    "|2015|01 - 04|+7|\n",
    "|2016|???|???|"
   ]
  },
  {
   "cell_type": "markdown",
   "metadata": {},
   "source": [
    "I will create a list of values, which is now stored as weeks and I want it by months. In order to create monthly data I'm dividing each week to 7 equal parts into an approximated daily data. Later I can `group by` the month of a specific day."
   ]
  },
  {
   "cell_type": "code",
   "execution_count": 87,
   "metadata": {
    "collapsed": false
   },
   "outputs": [
    {
     "name": "stdout",
     "output_type": "stream",
     "text": [
      "0 50 100 150 200 250 300 350 400 450 500 550 600 650 700 750 800\n"
     ]
    }
   ],
   "source": [
    "# Initiating\n",
    "diffs = {'2000' : -1, '2009':7, '2015' :7}\n",
    "diffs.keys()\n",
    "new_rows = []\n",
    "\n",
    "for i, name in enumerate(files):\n",
    "    try:\n",
    "    #     print satus every 50\n",
    "        if i%50 == 0:\n",
    "            print i,\n",
    "        wb = xl.open_workbook('./csv/weeklies/{}'.format(name),'r')\n",
    "        val= weekly_disease(wb)\n",
    "        week_n = int(name[5:7]) # Week number as int\n",
    "        year = int(name[0:4])\n",
    "        week = Week(year,week_n) # Week object\n",
    "        start_date =  week.monday() - timedelta(days=1) # Finds the sunday of the week\n",
    "\n",
    "        if str(year) in diffs.keys():\n",
    "            start_date += timedelta(days=diffs[str(year)])\n",
    "\n",
    "        for d in range (7):\n",
    "            date = start_date + timedelta(days=d)\n",
    "            Y = date.year\n",
    "            M = date.month\n",
    "            new_rows.append([date, Y, M, val/7])\n",
    "    except:\n",
    "        week_n = int(name[5:7]) # Week number as int\n",
    "        year = int(name[0:4])\n",
    "        missing.append([year,week_n])\n",
    "#         print \"\\n\",i, name"
   ]
  },
  {
   "cell_type": "markdown",
   "metadata": {},
   "source": [
    "Now, I can handle the missing values. I'll iterate over my `missing` list, look for previous values and next values and complete the needed value. This move is not \"smart\" computationally as I could have done in the previous, but the list is small and this will take a lot less of my time and _\"premature optimization is the root of all evil\"_ (-Donald Knuth).\n",
    "if there is only one week between two existing ones it's simple: $ X_n = X_{n+1_{sum}} - X_{n-1_{sum}} - X_{n+1}$."
   ]
  },
  {
   "cell_type": "code",
   "execution_count": 88,
   "metadata": {
    "collapsed": false
   },
   "outputs": [],
   "source": [
    "for year, week_n in missing:\n",
    "    # Find the value\n",
    "    try:\n",
    "        wb = xl.open_workbook('./csv/weeklies/{y}_{w:02d}.xls'.format(y=year, w=week_n+1),'r')\n",
    "    except Exception as e:\n",
    "        print e\n",
    "        wb = xl.open_workbook('./csv/weeklies/{y}_{w:02d}.xlsx'.format(y=year, w=week_n+1),'r') \n",
    "    x_next, x_next_sum = weekly_disease(wb, cumsum=True)\n",
    "    try:\n",
    "        wb = xl.open_workbook('./csv/weeklies/{y}_{w:02d}.xls'.format(y=year, w=week_n-1),'r')\n",
    "    except Exception as e:\n",
    "        print e\n",
    "        wb = xl.open_workbook('./csv/weeklies/{y}_{w:02d}.xlsx'.format(y=year, w=week_n-1),'r')\n",
    "    x_prev, x_prev_sum = weekly_disease(wb, cumsum=True)\n",
    "    val = x_next_sum - x_next - x_prev_sum\n",
    "    \n",
    "    # Deal with the date\n",
    "    week = Week(year,week_n) # Week object\n",
    "    start_date =  week.monday() - timedelta(days=1) # Finds the sunday of the week\n",
    "    \n",
    "    if str(year) in diffs.keys():\n",
    "        start_date += timedelta(days=diffs[str(year)])\n",
    "\n",
    "    for d in range (7):\n",
    "        date = start_date + timedelta(days=d)\n",
    "        Y = date.year\n",
    "        M = date.month\n",
    "        new_rows.append([date, Y, M, val/7])"
   ]
  },
  {
   "cell_type": "markdown",
   "metadata": {},
   "source": [
    "Finally, I can put all the values inside a pandas data frame, and `group_by` month with sum of cases. I can write this data frame to a `csv` in put it in my data folder."
   ]
  },
  {
   "cell_type": "code",
   "execution_count": 149,
   "metadata": {
    "collapsed": false
   },
   "outputs": [],
   "source": [
    "import pandas as pd\n",
    "df = pd.DataFrame(data = new_rows, columns=['date','Year','Month','cases'])\n",
    "df = df.groupby(['Year','Month']).agg({'cases':'sum'})\n",
    "df_2014 = df[(2014,1):]\n",
    "df_2014.to_csv('./csv/monthly_2014-2015.csv')\n",
    "df.to_csv('./csv/cases_public.csv')"
   ]
  },
  {
   "cell_type": "code",
   "execution_count": 150,
   "metadata": {
    "collapsed": false
   },
   "outputs": [],
   "source": [
    "pop = pd.read_excel('./csv/pop-il.xlsx', sheetname='total_year').set_index('Year')\n",
    "# Compute cases per 100,000 people\n",
    "df = df.join(pop, how='inner')\n",
    "df['per100k'] = df.cases / df.Pop"
   ]
  },
  {
   "cell_type": "code",
   "execution_count": 151,
   "metadata": {
    "collapsed": false
   },
   "outputs": [
    {
     "data": {
      "text/plain": [
       "<matplotlib.axes._subplots.AxesSubplot at 0xdcfc668>"
      ]
     },
     "execution_count": 151,
     "metadata": {},
     "output_type": "execute_result"
    },
    {
     "data": {
      "image/png": "[encoded data removed]",
      "text/plain": [
       "<matplotlib.figure.Figure at 0xf5ad2e8>"
      ]
     },
     "metadata": {},
     "output_type": "display_data"
    }
   ],
   "source": [
    "%matplotlib inline\n",
    "df['per100k'].plot()"
   ]
  },
  {
   "cell_type": "code",
   "execution_count": 129,
   "metadata": {
    "collapsed": false
   },
   "outputs": [
    {
     "ename": "KeyError",
     "evalue": "'Year'",
     "output_type": "error",
     "traceback": [
      "\u001b[1;31m---------------------------------------------------------------------------\u001b[0m",
      "\u001b[1;31mKeyError\u001b[0m                                  Traceback (most recent call last)",
      "\u001b[1;32m<ipython-input-129-b26da7784559>\u001b[0m in \u001b[0;36m<module>\u001b[1;34m()\u001b[0m\n\u001b[0;32m      3\u001b[0m \u001b[1;31m# plt.show()\u001b[0m\u001b[1;33m\u001b[0m\u001b[1;33m\u001b[0m\u001b[0m\n\u001b[0;32m      4\u001b[0m \u001b[0mpop\u001b[0m \u001b[1;33m=\u001b[0m \u001b[0mpd\u001b[0m\u001b[1;33m.\u001b[0m\u001b[0mread_excel\u001b[0m\u001b[1;33m(\u001b[0m\u001b[1;34m'./csv/pop-il.xlsx'\u001b[0m\u001b[1;33m,\u001b[0m \u001b[0msheetname\u001b[0m\u001b[1;33m=\u001b[0m\u001b[1;34m'total_year'\u001b[0m\u001b[1;33m)\u001b[0m\u001b[1;33m.\u001b[0m\u001b[0mset_index\u001b[0m\u001b[1;33m(\u001b[0m\u001b[1;34m'Year'\u001b[0m\u001b[1;33m)\u001b[0m\u001b[1;33m\u001b[0m\u001b[0m\n\u001b[1;32m----> 5\u001b[1;33m \u001b[0mdf\u001b[0m \u001b[1;33m=\u001b[0m \u001b[0mpd\u001b[0m\u001b[1;33m.\u001b[0m\u001b[0mmerge\u001b[0m\u001b[1;33m(\u001b[0m\u001b[0mdf\u001b[0m\u001b[1;33m.\u001b[0m\u001b[0mreset_index\u001b[0m\u001b[1;33m(\u001b[0m\u001b[1;33m)\u001b[0m\u001b[1;33m,\u001b[0m \u001b[0mpop\u001b[0m\u001b[1;33m,\u001b[0m \u001b[0mon\u001b[0m\u001b[1;33m=\u001b[0m\u001b[1;34m'Year'\u001b[0m\u001b[1;33m)\u001b[0m\u001b[1;33m\u001b[0m\u001b[0m\n\u001b[0m\u001b[0;32m      6\u001b[0m \u001b[0mdf\u001b[0m\u001b[1;33m[\u001b[0m\u001b[1;34m'per100k'\u001b[0m\u001b[1;33m]\u001b[0m \u001b[1;33m=\u001b[0m \u001b[1;36m10\u001b[0m\u001b[1;33m**\u001b[0m\u001b[1;36m5\u001b[0m \u001b[1;33m*\u001b[0m \u001b[0mdf\u001b[0m\u001b[1;33m.\u001b[0m\u001b[0mcases\u001b[0m \u001b[1;33m/\u001b[0m \u001b[0mdf\u001b[0m\u001b[1;33m.\u001b[0m\u001b[0mPop\u001b[0m\u001b[1;33m\u001b[0m\u001b[0m\n\u001b[0;32m      7\u001b[0m \u001b[1;31m# df.plot()\u001b[0m\u001b[1;33m\u001b[0m\u001b[1;33m\u001b[0m\u001b[0m\n",
      "\u001b[1;32mc:\\anaconda\\lib\\site-packages\\pandas\\tools\\merge.pyc\u001b[0m in \u001b[0;36mmerge\u001b[1;34m(left, right, how, on, left_on, right_on, left_index, right_index, sort, suffixes, copy, indicator)\u001b[0m\n\u001b[0;32m     32\u001b[0m                          \u001b[0mright_on\u001b[0m\u001b[1;33m=\u001b[0m\u001b[0mright_on\u001b[0m\u001b[1;33m,\u001b[0m \u001b[0mleft_index\u001b[0m\u001b[1;33m=\u001b[0m\u001b[0mleft_index\u001b[0m\u001b[1;33m,\u001b[0m\u001b[1;33m\u001b[0m\u001b[0m\n\u001b[0;32m     33\u001b[0m                          \u001b[0mright_index\u001b[0m\u001b[1;33m=\u001b[0m\u001b[0mright_index\u001b[0m\u001b[1;33m,\u001b[0m \u001b[0msort\u001b[0m\u001b[1;33m=\u001b[0m\u001b[0msort\u001b[0m\u001b[1;33m,\u001b[0m \u001b[0msuffixes\u001b[0m\u001b[1;33m=\u001b[0m\u001b[0msuffixes\u001b[0m\u001b[1;33m,\u001b[0m\u001b[1;33m\u001b[0m\u001b[0m\n\u001b[1;32m---> 34\u001b[1;33m                          copy=copy, indicator=indicator)\n\u001b[0m\u001b[0;32m     35\u001b[0m     \u001b[1;32mreturn\u001b[0m \u001b[0mop\u001b[0m\u001b[1;33m.\u001b[0m\u001b[0mget_result\u001b[0m\u001b[1;33m(\u001b[0m\u001b[1;33m)\u001b[0m\u001b[1;33m\u001b[0m\u001b[0m\n\u001b[0;32m     36\u001b[0m \u001b[1;32mif\u001b[0m \u001b[0m__debug__\u001b[0m\u001b[1;33m:\u001b[0m\u001b[1;33m\u001b[0m\u001b[0m\n",
      "\u001b[1;32mc:\\anaconda\\lib\\site-packages\\pandas\\tools\\merge.pyc\u001b[0m in \u001b[0;36m__init__\u001b[1;34m(self, left, right, how, on, left_on, right_on, axis, left_index, right_index, sort, suffixes, copy, indicator)\u001b[0m\n\u001b[0;32m    188\u001b[0m         (self.left_join_keys,\n\u001b[0;32m    189\u001b[0m          \u001b[0mself\u001b[0m\u001b[1;33m.\u001b[0m\u001b[0mright_join_keys\u001b[0m\u001b[1;33m,\u001b[0m\u001b[1;33m\u001b[0m\u001b[0m\n\u001b[1;32m--> 190\u001b[1;33m          self.join_names) = self._get_merge_keys()\n\u001b[0m\u001b[0;32m    191\u001b[0m \u001b[1;33m\u001b[0m\u001b[0m\n\u001b[0;32m    192\u001b[0m     \u001b[1;32mdef\u001b[0m \u001b[0mget_result\u001b[0m\u001b[1;33m(\u001b[0m\u001b[0mself\u001b[0m\u001b[1;33m)\u001b[0m\u001b[1;33m:\u001b[0m\u001b[1;33m\u001b[0m\u001b[0m\n",
      "\u001b[1;32mc:\\anaconda\\lib\\site-packages\\pandas\\tools\\merge.pyc\u001b[0m in \u001b[0;36m_get_merge_keys\u001b[1;34m(self)\u001b[0m\n\u001b[0;32m    401\u001b[0m                 \u001b[1;32melse\u001b[0m\u001b[1;33m:\u001b[0m\u001b[1;33m\u001b[0m\u001b[0m\n\u001b[0;32m    402\u001b[0m                     \u001b[1;32mif\u001b[0m \u001b[1;32mnot\u001b[0m \u001b[0mis_rkey\u001b[0m\u001b[1;33m(\u001b[0m\u001b[0mrk\u001b[0m\u001b[1;33m)\u001b[0m\u001b[1;33m:\u001b[0m\u001b[1;33m\u001b[0m\u001b[0m\n\u001b[1;32m--> 403\u001b[1;33m                         \u001b[0mright_keys\u001b[0m\u001b[1;33m.\u001b[0m\u001b[0mappend\u001b[0m\u001b[1;33m(\u001b[0m\u001b[0mright\u001b[0m\u001b[1;33m[\u001b[0m\u001b[0mrk\u001b[0m\u001b[1;33m]\u001b[0m\u001b[1;33m.\u001b[0m\u001b[0m_values\u001b[0m\u001b[1;33m)\u001b[0m\u001b[1;33m\u001b[0m\u001b[0m\n\u001b[0m\u001b[0;32m    404\u001b[0m                         \u001b[1;32mif\u001b[0m \u001b[0mlk\u001b[0m \u001b[1;33m==\u001b[0m \u001b[0mrk\u001b[0m\u001b[1;33m:\u001b[0m\u001b[1;33m\u001b[0m\u001b[0m\n\u001b[0;32m    405\u001b[0m                             \u001b[1;31m# avoid key upcast in corner case (length-0)\u001b[0m\u001b[1;33m\u001b[0m\u001b[1;33m\u001b[0m\u001b[0m\n",
      "\u001b[1;32mc:\\anaconda\\lib\\site-packages\\pandas\\core\\frame.pyc\u001b[0m in \u001b[0;36m__getitem__\u001b[1;34m(self, key)\u001b[0m\n\u001b[0;32m   1912\u001b[0m             \u001b[1;32mreturn\u001b[0m \u001b[0mself\u001b[0m\u001b[1;33m.\u001b[0m\u001b[0m_getitem_multilevel\u001b[0m\u001b[1;33m(\u001b[0m\u001b[0mkey\u001b[0m\u001b[1;33m)\u001b[0m\u001b[1;33m\u001b[0m\u001b[0m\n\u001b[0;32m   1913\u001b[0m         \u001b[1;32melse\u001b[0m\u001b[1;33m:\u001b[0m\u001b[1;33m\u001b[0m\u001b[0m\n\u001b[1;32m-> 1914\u001b[1;33m             \u001b[1;32mreturn\u001b[0m \u001b[0mself\u001b[0m\u001b[1;33m.\u001b[0m\u001b[0m_getitem_column\u001b[0m\u001b[1;33m(\u001b[0m\u001b[0mkey\u001b[0m\u001b[1;33m)\u001b[0m\u001b[1;33m\u001b[0m\u001b[0m\n\u001b[0m\u001b[0;32m   1915\u001b[0m \u001b[1;33m\u001b[0m\u001b[0m\n\u001b[0;32m   1916\u001b[0m     \u001b[1;32mdef\u001b[0m \u001b[0m_getitem_column\u001b[0m\u001b[1;33m(\u001b[0m\u001b[0mself\u001b[0m\u001b[1;33m,\u001b[0m \u001b[0mkey\u001b[0m\u001b[1;33m)\u001b[0m\u001b[1;33m:\u001b[0m\u001b[1;33m\u001b[0m\u001b[0m\n",
      "\u001b[1;32mc:\\anaconda\\lib\\site-packages\\pandas\\core\\frame.pyc\u001b[0m in \u001b[0;36m_getitem_column\u001b[1;34m(self, key)\u001b[0m\n\u001b[0;32m   1919\u001b[0m         \u001b[1;31m# get column\u001b[0m\u001b[1;33m\u001b[0m\u001b[1;33m\u001b[0m\u001b[0m\n\u001b[0;32m   1920\u001b[0m         \u001b[1;32mif\u001b[0m \u001b[0mself\u001b[0m\u001b[1;33m.\u001b[0m\u001b[0mcolumns\u001b[0m\u001b[1;33m.\u001b[0m\u001b[0mis_unique\u001b[0m\u001b[1;33m:\u001b[0m\u001b[1;33m\u001b[0m\u001b[0m\n\u001b[1;32m-> 1921\u001b[1;33m             \u001b[1;32mreturn\u001b[0m \u001b[0mself\u001b[0m\u001b[1;33m.\u001b[0m\u001b[0m_get_item_cache\u001b[0m\u001b[1;33m(\u001b[0m\u001b[0mkey\u001b[0m\u001b[1;33m)\u001b[0m\u001b[1;33m\u001b[0m\u001b[0m\n\u001b[0m\u001b[0;32m   1922\u001b[0m \u001b[1;33m\u001b[0m\u001b[0m\n\u001b[0;32m   1923\u001b[0m         \u001b[1;31m# duplicate columns & possible reduce dimensionaility\u001b[0m\u001b[1;33m\u001b[0m\u001b[1;33m\u001b[0m\u001b[0m\n",
      "\u001b[1;32mc:\\anaconda\\lib\\site-packages\\pandas\\core\\generic.pyc\u001b[0m in \u001b[0;36m_get_item_cache\u001b[1;34m(self, item)\u001b[0m\n\u001b[0;32m   1088\u001b[0m         \u001b[0mres\u001b[0m \u001b[1;33m=\u001b[0m \u001b[0mcache\u001b[0m\u001b[1;33m.\u001b[0m\u001b[0mget\u001b[0m\u001b[1;33m(\u001b[0m\u001b[0mitem\u001b[0m\u001b[1;33m)\u001b[0m\u001b[1;33m\u001b[0m\u001b[0m\n\u001b[0;32m   1089\u001b[0m         \u001b[1;32mif\u001b[0m \u001b[0mres\u001b[0m \u001b[1;32mis\u001b[0m \u001b[0mNone\u001b[0m\u001b[1;33m:\u001b[0m\u001b[1;33m\u001b[0m\u001b[0m\n\u001b[1;32m-> 1090\u001b[1;33m             \u001b[0mvalues\u001b[0m \u001b[1;33m=\u001b[0m \u001b[0mself\u001b[0m\u001b[1;33m.\u001b[0m\u001b[0m_data\u001b[0m\u001b[1;33m.\u001b[0m\u001b[0mget\u001b[0m\u001b[1;33m(\u001b[0m\u001b[0mitem\u001b[0m\u001b[1;33m)\u001b[0m\u001b[1;33m\u001b[0m\u001b[0m\n\u001b[0m\u001b[0;32m   1091\u001b[0m             \u001b[0mres\u001b[0m \u001b[1;33m=\u001b[0m \u001b[0mself\u001b[0m\u001b[1;33m.\u001b[0m\u001b[0m_box_item_values\u001b[0m\u001b[1;33m(\u001b[0m\u001b[0mitem\u001b[0m\u001b[1;33m,\u001b[0m \u001b[0mvalues\u001b[0m\u001b[1;33m)\u001b[0m\u001b[1;33m\u001b[0m\u001b[0m\n\u001b[0;32m   1092\u001b[0m             \u001b[0mcache\u001b[0m\u001b[1;33m[\u001b[0m\u001b[0mitem\u001b[0m\u001b[1;33m]\u001b[0m \u001b[1;33m=\u001b[0m \u001b[0mres\u001b[0m\u001b[1;33m\u001b[0m\u001b[0m\n",
      "\u001b[1;32mc:\\anaconda\\lib\\site-packages\\pandas\\core\\internals.pyc\u001b[0m in \u001b[0;36mget\u001b[1;34m(self, item, fastpath)\u001b[0m\n\u001b[0;32m   3100\u001b[0m \u001b[1;33m\u001b[0m\u001b[0m\n\u001b[0;32m   3101\u001b[0m             \u001b[1;32mif\u001b[0m \u001b[1;32mnot\u001b[0m \u001b[0misnull\u001b[0m\u001b[1;33m(\u001b[0m\u001b[0mitem\u001b[0m\u001b[1;33m)\u001b[0m\u001b[1;33m:\u001b[0m\u001b[1;33m\u001b[0m\u001b[0m\n\u001b[1;32m-> 3102\u001b[1;33m                 \u001b[0mloc\u001b[0m \u001b[1;33m=\u001b[0m \u001b[0mself\u001b[0m\u001b[1;33m.\u001b[0m\u001b[0mitems\u001b[0m\u001b[1;33m.\u001b[0m\u001b[0mget_loc\u001b[0m\u001b[1;33m(\u001b[0m\u001b[0mitem\u001b[0m\u001b[1;33m)\u001b[0m\u001b[1;33m\u001b[0m\u001b[0m\n\u001b[0m\u001b[0;32m   3103\u001b[0m             \u001b[1;32melse\u001b[0m\u001b[1;33m:\u001b[0m\u001b[1;33m\u001b[0m\u001b[0m\n\u001b[0;32m   3104\u001b[0m                 \u001b[0mindexer\u001b[0m \u001b[1;33m=\u001b[0m \u001b[0mnp\u001b[0m\u001b[1;33m.\u001b[0m\u001b[0marange\u001b[0m\u001b[1;33m(\u001b[0m\u001b[0mlen\u001b[0m\u001b[1;33m(\u001b[0m\u001b[0mself\u001b[0m\u001b[1;33m.\u001b[0m\u001b[0mitems\u001b[0m\u001b[1;33m)\u001b[0m\u001b[1;33m)\u001b[0m\u001b[1;33m[\u001b[0m\u001b[0misnull\u001b[0m\u001b[1;33m(\u001b[0m\u001b[0mself\u001b[0m\u001b[1;33m.\u001b[0m\u001b[0mitems\u001b[0m\u001b[1;33m)\u001b[0m\u001b[1;33m]\u001b[0m\u001b[1;33m\u001b[0m\u001b[0m\n",
      "\u001b[1;32mc:\\anaconda\\lib\\site-packages\\pandas\\core\\index.pyc\u001b[0m in \u001b[0;36mget_loc\u001b[1;34m(self, key, method, tolerance)\u001b[0m\n\u001b[0;32m   1690\u001b[0m                 raise ValueError('tolerance argument only valid if using pad, '\n\u001b[0;32m   1691\u001b[0m                                  'backfill or nearest lookups')\n\u001b[1;32m-> 1692\u001b[1;33m             \u001b[1;32mreturn\u001b[0m \u001b[0mself\u001b[0m\u001b[1;33m.\u001b[0m\u001b[0m_engine\u001b[0m\u001b[1;33m.\u001b[0m\u001b[0mget_loc\u001b[0m\u001b[1;33m(\u001b[0m\u001b[0m_values_from_object\u001b[0m\u001b[1;33m(\u001b[0m\u001b[0mkey\u001b[0m\u001b[1;33m)\u001b[0m\u001b[1;33m)\u001b[0m\u001b[1;33m\u001b[0m\u001b[0m\n\u001b[0m\u001b[0;32m   1693\u001b[0m \u001b[1;33m\u001b[0m\u001b[0m\n\u001b[0;32m   1694\u001b[0m         indexer = self.get_indexer([key], method=method,\n",
      "\u001b[1;32mpandas\\index.pyx\u001b[0m in \u001b[0;36mpandas.index.IndexEngine.get_loc (pandas\\index.c:3979)\u001b[1;34m()\u001b[0m\n",
      "\u001b[1;32mpandas\\index.pyx\u001b[0m in \u001b[0;36mpandas.index.IndexEngine.get_loc (pandas\\index.c:3843)\u001b[1;34m()\u001b[0m\n",
      "\u001b[1;32mpandas\\hashtable.pyx\u001b[0m in \u001b[0;36mpandas.hashtable.PyObjectHashTable.get_item (pandas\\hashtable.c:12265)\u001b[1;34m()\u001b[0m\n",
      "\u001b[1;32mpandas\\hashtable.pyx\u001b[0m in \u001b[0;36mpandas.hashtable.PyObjectHashTable.get_item (pandas\\hashtable.c:12216)\u001b[1;34m()\u001b[0m\n",
      "\u001b[1;31mKeyError\u001b[0m: 'Year'"
     ]
    },
    {
     "data": {
      "image/png": "[encoded data removed]",
      "text/plain": [
       "<matplotlib.figure.Figure at 0xf1e06d8>"
      ]
     },
     "metadata": {},
     "output_type": "display_data"
    }
   ],
   "source": [
    "df = pd.merge(df, pop, on='Year')\n",
    "df['per100k'] = 10**5 * df.cases / df.Pop\n",
    "# df.plot()\n",
    "# df.reset_index()\n",
    "# pop"
   ]
  },
  {
   "cell_type": "code",
   "execution_count": 128,
   "metadata": {
    "collapsed": false
   },
   "outputs": [
    {
     "data": {
      "text/plain": [
       "<matplotlib.axes._subplots.AxesSubplot at 0xe69a668>"
      ]
     },
     "execution_count": 128,
     "metadata": {},
     "output_type": "execute_result"
    },
    {
     "data": {
      "image/png": "[encoded data removed]",
      "text/plain": [
       "<matplotlib.figure.Figure at 0xcbb1198>"
      ]
     },
     "metadata": {},
     "output_type": "display_data"
    }
   ],
   "source": [
    "df.set_index('Year').plot()"
   ]
  },
  {
   "cell_type": "markdown",
   "metadata": {},
   "source": [
    "On the next post I'm taking that data set and creating a statistical model using MCMC"
   ]
  }
 ],
 "metadata": {
  "kernelspec": {
   "display_name": "Python 2",
   "language": "python",
   "name": "python2"
  },
  "language_info": {
   "codemirror_mode": {
    "name": "ipython",
    "version": 2
   },
   "file_extension": ".py",
   "mimetype": "text/x-python",
   "name": "python",
   "nbconvert_exporter": "python",
   "pygments_lexer": "ipython2",
   "version": "2.7.11"
  }
 },
 "nbformat": 4,
 "nbformat_minor": 0
}
