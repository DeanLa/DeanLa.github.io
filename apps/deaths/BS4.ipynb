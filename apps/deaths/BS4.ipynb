{
 "cells": [
  {
   "cell_type": "code",
   "execution_count": 10,
   "metadata": {
    "collapsed": false
   },
   "outputs": [
    {
     "name": "stdout",
     "output_type": "stream",
     "text": [
      "200\n"
     ]
    }
   ],
   "source": [
    "from bs4 import BeautifulSoup\n",
    "import requests\n",
    "\n",
    "r = requests.get('https://en.wikipedia.org/wiki/Deaths_in_2017')\n",
    "print (r.status_code)\n",
    "soup = BeautifulSoup(r.content, 'lxml')"
   ]
  },
  {
   "cell_type": "code",
   "execution_count": 82,
   "metadata": {
    "collapsed": false
   },
   "outputs": [
    {
     "name": "stdout",
     "output_type": "stream",
     "text": [
      "<h3><span class=\"mw-headline\" id=\"1\">1</span><span class=\"mw-editsection\"><span class=\"mw-editsection-bracket\">[</span><a href=\"/w/index.php?title=Deaths_in_2017&amp;action=edit&amp;section=8\" title=\"Edit section: 1\">edit</a><span class=\"mw-editsection-bracket\">]</span></span></h3>\n"
     ]
    }
   ],
   "source": [
    "day = soup.find(class_='mw-headline', id=1)\n",
    "print(day.parent)\n",
    "persons = day.parent.find_next_sibling('ul')"
   ]
  },
  {
   "cell_type": "code",
   "execution_count": 63,
   "metadata": {
    "collapsed": false
   },
   "outputs": [],
   "source": [
    "import pandas as pd"
   ]
  },
  {
   "cell_type": "code",
   "execution_count": 79,
   "metadata": {
    "collapsed": true
   },
   "outputs": [],
   "source": [
    "x = [1,1,5,6,7,10]\n",
    "y = [3,3,3,4,4,40]\n",
    "data = {\n",
    "    'x':x,\n",
    "    'y':y\n",
    "}"
   ]
  },
  {
   "cell_type": "code",
   "execution_count": 80,
   "metadata": {
    "collapsed": false
   },
   "outputs": [],
   "source": [
    "df = pd.DataFrame(data)"
   ]
  },
  {
   "cell_type": "code",
   "execution_count": 89,
   "metadata": {
    "collapsed": false
   },
   "outputs": [
    {
     "name": "stdout",
     "output_type": "stream",
     "text": [
      "['', 'January', 'February', 'March', 'April', 'May', 'June', 'July', 'August', 'September', 'October', 'November', 'December']\n"
     ]
    }
   ],
   "source": [
    "from calendar import month_name\n",
    "print ([m for m in month_name])"
   ]
  },
  {
   "cell_type": "code",
   "execution_count": 90,
   "metadata": {
    "collapsed": false
   },
   "outputs": [
    {
     "data": {
      "text/plain": [
       "['',\n",
       " 'January',\n",
       " 'February',\n",
       " 'March',\n",
       " 'April',\n",
       " 'May',\n",
       " 'June',\n",
       " 'July',\n",
       " 'August',\n",
       " 'September',\n",
       " 'October',\n",
       " 'November',\n",
       " 'December']"
      ]
     },
     "execution_count": 90,
     "metadata": {},
     "output_type": "execute_result"
    }
   ],
   "source": [
    "list(month_name)"
   ]
  },
  {
   "cell_type": "markdown",
   "metadata": {},
   "source": [
    "# NEW"
   ]
  },
  {
   "cell_type": "code",
   "execution_count": 1,
   "metadata": {
    "collapsed": false
   },
   "outputs": [
    {
     "name": "stdout",
     "output_type": "stream",
     "text": [
      "200\n"
     ]
    }
   ],
   "source": [
    "import pandas as pd\n",
    "import matplotlib.pyplot as plt\n",
    "\n",
    "# df = pd.DataFrame([[2001,151],[2002,160], [2006,211]], columns=['year','sale'])\n",
    "# print (df)\n",
    "# df.to_csv('./data.csv', index=False)\n",
    "# {'split','records','index','columns','values'}\n",
    "# plt.plot (df.x, df.y)\n",
    "# plt.show()\n",
    "\n",
    "from bs4 import BeautifulSoup\n",
    "import requests\n",
    "\n",
    "r = requests.get('https://en.wikipedia.org/wiki/Deaths_in_2017#January')\n",
    "print(r.status_code)\n",
    "soup = BeautifulSoup(r.content, 'lxml')"
   ]
  },
  {
   "cell_type": "code",
   "execution_count": 47,
   "metadata": {
    "collapsed": true
   },
   "outputs": [],
   "source": [
    "mw_headlines = soup.find_all(class_='mw-headline')"
   ]
  },
  {
   "cell_type": "code",
   "execution_count": 48,
   "metadata": {
    "collapsed": false
   },
   "outputs": [
    {
     "data": {
      "text/plain": [
       "[<span class=\"mw-headline\" id=\"February\">February</span>,\n",
       " <span class=\"mw-headline\" id=\"2\">2</span>,\n",
       " <span class=\"mw-headline\" id=\"1\">1</span>,\n",
       " <span class=\"mw-headline\" id=\"January\">January</span>,\n",
       " <span class=\"mw-headline\" id=\"31\">31</span>,\n",
       " <span class=\"mw-headline\" id=\"30\">30</span>,\n",
       " <span class=\"mw-headline\" id=\"29\">29</span>,\n",
       " <span class=\"mw-headline\" id=\"28\">28</span>,\n",
       " <span class=\"mw-headline\" id=\"27\">27</span>,\n",
       " <span class=\"mw-headline\" id=\"26\">26</span>,\n",
       " <span class=\"mw-headline\" id=\"25\">25</span>,\n",
       " <span class=\"mw-headline\" id=\"24\">24</span>,\n",
       " <span class=\"mw-headline\" id=\"23\">23</span>,\n",
       " <span class=\"mw-headline\" id=\"22\">22</span>,\n",
       " <span class=\"mw-headline\" id=\"21\">21</span>,\n",
       " <span class=\"mw-headline\" id=\"20\">20</span>,\n",
       " <span class=\"mw-headline\" id=\"19\">19</span>,\n",
       " <span class=\"mw-headline\" id=\"18\">18</span>,\n",
       " <span class=\"mw-headline\" id=\"17\">17</span>,\n",
       " <span class=\"mw-headline\" id=\"16\">16</span>,\n",
       " <span class=\"mw-headline\" id=\"15\">15</span>,\n",
       " <span class=\"mw-headline\" id=\"14\">14</span>,\n",
       " <span class=\"mw-headline\" id=\"13\">13</span>,\n",
       " <span class=\"mw-headline\" id=\"12\">12</span>,\n",
       " <span class=\"mw-headline\" id=\"11\">11</span>,\n",
       " <span class=\"mw-headline\" id=\"10\">10</span>,\n",
       " <span class=\"mw-headline\" id=\"9\">9</span>,\n",
       " <span class=\"mw-headline\" id=\"8\">8</span>,\n",
       " <span class=\"mw-headline\" id=\"7\">7</span>,\n",
       " <span class=\"mw-headline\" id=\"6\">6</span>,\n",
       " <span class=\"mw-headline\" id=\"5\">5</span>,\n",
       " <span class=\"mw-headline\" id=\"4\">4</span>,\n",
       " <span class=\"mw-headline\" id=\"3\">3</span>,\n",
       " <span class=\"mw-headline\" id=\"2_2\">2</span>,\n",
       " <span class=\"mw-headline\" id=\"1_2\">1</span>,\n",
       " <span class=\"mw-headline\" id=\"See_also\">See also</span>,\n",
       " <span class=\"mw-headline\" id=\"References\">References</span>,\n",
       " <span class=\"mw-headline\" id=\"External_links\">External links</span>]"
      ]
     },
     "execution_count": 48,
     "metadata": {},
     "output_type": "execute_result"
    }
   ],
   "source": [
    "mw_headlines"
   ]
  },
  {
   "cell_type": "code",
   "execution_count": 55,
   "metadata": {
    "collapsed": true
   },
   "outputs": [],
   "source": [
    "year = []\n",
    "month = []\n",
    "day = []\n",
    "html = []\n",
    "deaths = []\n",
    "date_in_year = []"
   ]
  },
  {
   "cell_type": "code",
   "execution_count": 59,
   "metadata": {
    "collapsed": false
   },
   "outputs": [
    {
     "name": "stdout",
     "output_type": "stream",
     "text": [
      "<span class=\"mw-headline\" id=\"February\">February</span>\n",
      "02\n",
      "NO\n",
      "01\n",
      "<span class=\"mw-headline\" id=\"January\">January</span>\n",
      "31\n",
      "30\n",
      "29\n",
      "28\n",
      "27\n",
      "26\n",
      "25\n",
      "24\n",
      "23\n",
      "22\n",
      "21\n",
      "20\n",
      "19\n",
      "18\n",
      "17\n",
      "16\n",
      "15\n",
      "14\n",
      "13\n",
      "12\n",
      "11\n",
      "10\n",
      "09\n",
      "08\n",
      "07\n",
      "06\n",
      "05\n",
      "04\n",
      "03\n",
      "02\n",
      "01\n",
      "invalid literal for int() with base 10: 'See also'\n",
      "invalid literal for int() with base 10: 'References'\n",
      "invalid literal for int() with base 10: 'External links'\n"
     ]
    }
   ],
   "source": [
    "from calendar import month_name\n",
    "month_dict = {}\n",
    "for i,month in enumerate(month_name):\n",
    "    month_dict[month] = \"{:02d}\".format(i)\n",
    "for d in mw_headlines:\n",
    "    pass\n",
    "    try:\n",
    "#         d = mw_headlines[2]\n",
    "#         print (d.string)\n",
    "\n",
    "        if d.string in month_dict.keys():\n",
    "            print (d)\n",
    "            mi = month_dict[d.string]\n",
    "        else:\n",
    "            di = \"{:02d}\".format(int(d.string))\n",
    "            print (di)\n",
    "            persons = d.parent.find_next_sibling()\n",
    "            if persons.name != 'ul':\n",
    "                print (\"NO\")\n",
    "                continue\n",
    "            html.append('X')\n",
    "            date_in_year.append(mi+di)\n",
    "            deaths.append(len(persons('li')))\n",
    "\n",
    "    except Exception as e:\n",
    "        print (e)"
   ]
  },
  {
   "cell_type": "code",
   "execution_count": 62,
   "metadata": {
    "collapsed": false
   },
   "outputs": [
    {
     "data": {
      "text/plain": [
       "[('0201', 6),\n",
       " ('0131', 8),\n",
       " ('0130', 9),\n",
       " ('0129', 10),\n",
       " ('0128', 24),\n",
       " ('0127', 26),\n",
       " ('0126', 25),\n",
       " ('0125', 24),\n",
       " ('0124', 14),\n",
       " ('0123', 27),\n",
       " ('0122', 25),\n",
       " ('0121', 20),\n",
       " ('0120', 26),\n",
       " ('0119', 23),\n",
       " ('0118', 26),\n",
       " ('0117', 24),\n",
       " ('0116', 14),\n",
       " ('0115', 30),\n",
       " ('0114', 12),\n",
       " ('0113', 25),\n",
       " ('0112', 17),\n",
       " ('0111', 24),\n",
       " ('0110', 19),\n",
       " ('0109', 25),\n",
       " ('0108', 25),\n",
       " ('0107', 27),\n",
       " ('0106', 20),\n",
       " ('0105', 24),\n",
       " ('0104', 26),\n",
       " ('0103', 20),\n",
       " ('0102', 15),\n",
       " ('0101', 25)]"
      ]
     },
     "execution_count": 62,
     "metadata": {},
     "output_type": "execute_result"
    }
   ],
   "source": [
    "[_ for _ in zip(date_in_year, deaths)]"
   ]
  },
  {
   "cell_type": "code",
   "execution_count": 73,
   "metadata": {
    "collapsed": true
   },
   "outputs": [],
   "source": [
    "data = {\n",
    "    'date_in_year': date_in_year,\n",
    "    'deaths': deaths,\n",
    "    'html': html\n",
    "}\n",
    "df = pd.DataFrame(data)\n",
    "df = df.sort_values(by='date_in_year', ascending=True)\n",
    "df['total_deaths'] = df.deaths.cumsum()\n",
    "# df = df[['year','month','day','deaths','total_deaths','html']]\n",
    "df = df[['date_in_year','deaths','total_deaths','html']]\n",
    "df.to_csv('./2017.csv', index=False)"
   ]
  },
  {
   "cell_type": "code",
   "execution_count": 74,
   "metadata": {
    "collapsed": false
   },
   "outputs": [
    {
     "data": {
      "text/html": [
       "<div>\n",
       "<table border=\"1\" class=\"dataframe\">\n",
       "  <thead>\n",
       "    <tr style=\"text-align: right;\">\n",
       "      <th></th>\n",
       "      <th>date_in_year</th>\n",
       "      <th>deaths</th>\n",
       "      <th>total_deaths</th>\n",
       "      <th>html</th>\n",
       "    </tr>\n",
       "  </thead>\n",
       "  <tbody>\n",
       "    <tr>\n",
       "      <th>31</th>\n",
       "      <td>0101</td>\n",
       "      <td>25</td>\n",
       "      <td>25</td>\n",
       "      <td>X</td>\n",
       "    </tr>\n",
       "    <tr>\n",
       "      <th>30</th>\n",
       "      <td>0102</td>\n",
       "      <td>15</td>\n",
       "      <td>40</td>\n",
       "      <td>X</td>\n",
       "    </tr>\n",
       "    <tr>\n",
       "      <th>29</th>\n",
       "      <td>0103</td>\n",
       "      <td>20</td>\n",
       "      <td>60</td>\n",
       "      <td>X</td>\n",
       "    </tr>\n",
       "    <tr>\n",
       "      <th>28</th>\n",
       "      <td>0104</td>\n",
       "      <td>26</td>\n",
       "      <td>86</td>\n",
       "      <td>X</td>\n",
       "    </tr>\n",
       "    <tr>\n",
       "      <th>27</th>\n",
       "      <td>0105</td>\n",
       "      <td>24</td>\n",
       "      <td>110</td>\n",
       "      <td>X</td>\n",
       "    </tr>\n",
       "    <tr>\n",
       "      <th>26</th>\n",
       "      <td>0106</td>\n",
       "      <td>20</td>\n",
       "      <td>130</td>\n",
       "      <td>X</td>\n",
       "    </tr>\n",
       "    <tr>\n",
       "      <th>25</th>\n",
       "      <td>0107</td>\n",
       "      <td>27</td>\n",
       "      <td>157</td>\n",
       "      <td>X</td>\n",
       "    </tr>\n",
       "    <tr>\n",
       "      <th>24</th>\n",
       "      <td>0108</td>\n",
       "      <td>25</td>\n",
       "      <td>182</td>\n",
       "      <td>X</td>\n",
       "    </tr>\n",
       "    <tr>\n",
       "      <th>23</th>\n",
       "      <td>0109</td>\n",
       "      <td>25</td>\n",
       "      <td>207</td>\n",
       "      <td>X</td>\n",
       "    </tr>\n",
       "    <tr>\n",
       "      <th>22</th>\n",
       "      <td>0110</td>\n",
       "      <td>19</td>\n",
       "      <td>226</td>\n",
       "      <td>X</td>\n",
       "    </tr>\n",
       "    <tr>\n",
       "      <th>21</th>\n",
       "      <td>0111</td>\n",
       "      <td>24</td>\n",
       "      <td>250</td>\n",
       "      <td>X</td>\n",
       "    </tr>\n",
       "    <tr>\n",
       "      <th>20</th>\n",
       "      <td>0112</td>\n",
       "      <td>17</td>\n",
       "      <td>267</td>\n",
       "      <td>X</td>\n",
       "    </tr>\n",
       "    <tr>\n",
       "      <th>19</th>\n",
       "      <td>0113</td>\n",
       "      <td>25</td>\n",
       "      <td>292</td>\n",
       "      <td>X</td>\n",
       "    </tr>\n",
       "    <tr>\n",
       "      <th>18</th>\n",
       "      <td>0114</td>\n",
       "      <td>12</td>\n",
       "      <td>304</td>\n",
       "      <td>X</td>\n",
       "    </tr>\n",
       "    <tr>\n",
       "      <th>17</th>\n",
       "      <td>0115</td>\n",
       "      <td>30</td>\n",
       "      <td>334</td>\n",
       "      <td>X</td>\n",
       "    </tr>\n",
       "    <tr>\n",
       "      <th>16</th>\n",
       "      <td>0116</td>\n",
       "      <td>14</td>\n",
       "      <td>348</td>\n",
       "      <td>X</td>\n",
       "    </tr>\n",
       "    <tr>\n",
       "      <th>15</th>\n",
       "      <td>0117</td>\n",
       "      <td>24</td>\n",
       "      <td>372</td>\n",
       "      <td>X</td>\n",
       "    </tr>\n",
       "    <tr>\n",
       "      <th>14</th>\n",
       "      <td>0118</td>\n",
       "      <td>26</td>\n",
       "      <td>398</td>\n",
       "      <td>X</td>\n",
       "    </tr>\n",
       "    <tr>\n",
       "      <th>13</th>\n",
       "      <td>0119</td>\n",
       "      <td>23</td>\n",
       "      <td>421</td>\n",
       "      <td>X</td>\n",
       "    </tr>\n",
       "    <tr>\n",
       "      <th>12</th>\n",
       "      <td>0120</td>\n",
       "      <td>26</td>\n",
       "      <td>447</td>\n",
       "      <td>X</td>\n",
       "    </tr>\n",
       "    <tr>\n",
       "      <th>11</th>\n",
       "      <td>0121</td>\n",
       "      <td>20</td>\n",
       "      <td>467</td>\n",
       "      <td>X</td>\n",
       "    </tr>\n",
       "    <tr>\n",
       "      <th>10</th>\n",
       "      <td>0122</td>\n",
       "      <td>25</td>\n",
       "      <td>492</td>\n",
       "      <td>X</td>\n",
       "    </tr>\n",
       "    <tr>\n",
       "      <th>9</th>\n",
       "      <td>0123</td>\n",
       "      <td>27</td>\n",
       "      <td>519</td>\n",
       "      <td>X</td>\n",
       "    </tr>\n",
       "    <tr>\n",
       "      <th>8</th>\n",
       "      <td>0124</td>\n",
       "      <td>14</td>\n",
       "      <td>533</td>\n",
       "      <td>X</td>\n",
       "    </tr>\n",
       "    <tr>\n",
       "      <th>7</th>\n",
       "      <td>0125</td>\n",
       "      <td>24</td>\n",
       "      <td>557</td>\n",
       "      <td>X</td>\n",
       "    </tr>\n",
       "    <tr>\n",
       "      <th>6</th>\n",
       "      <td>0126</td>\n",
       "      <td>25</td>\n",
       "      <td>582</td>\n",
       "      <td>X</td>\n",
       "    </tr>\n",
       "    <tr>\n",
       "      <th>5</th>\n",
       "      <td>0127</td>\n",
       "      <td>26</td>\n",
       "      <td>608</td>\n",
       "      <td>X</td>\n",
       "    </tr>\n",
       "    <tr>\n",
       "      <th>4</th>\n",
       "      <td>0128</td>\n",
       "      <td>24</td>\n",
       "      <td>632</td>\n",
       "      <td>X</td>\n",
       "    </tr>\n",
       "    <tr>\n",
       "      <th>3</th>\n",
       "      <td>0129</td>\n",
       "      <td>10</td>\n",
       "      <td>642</td>\n",
       "      <td>X</td>\n",
       "    </tr>\n",
       "    <tr>\n",
       "      <th>2</th>\n",
       "      <td>0130</td>\n",
       "      <td>9</td>\n",
       "      <td>651</td>\n",
       "      <td>X</td>\n",
       "    </tr>\n",
       "    <tr>\n",
       "      <th>1</th>\n",
       "      <td>0131</td>\n",
       "      <td>8</td>\n",
       "      <td>659</td>\n",
       "      <td>X</td>\n",
       "    </tr>\n",
       "    <tr>\n",
       "      <th>0</th>\n",
       "      <td>0201</td>\n",
       "      <td>6</td>\n",
       "      <td>665</td>\n",
       "      <td>X</td>\n",
       "    </tr>\n",
       "  </tbody>\n",
       "</table>\n",
       "</div>"
      ],
      "text/plain": [
       "   date_in_year  deaths  total_deaths html\n",
       "31         0101      25            25    X\n",
       "30         0102      15            40    X\n",
       "29         0103      20            60    X\n",
       "28         0104      26            86    X\n",
       "27         0105      24           110    X\n",
       "26         0106      20           130    X\n",
       "25         0107      27           157    X\n",
       "24         0108      25           182    X\n",
       "23         0109      25           207    X\n",
       "22         0110      19           226    X\n",
       "21         0111      24           250    X\n",
       "20         0112      17           267    X\n",
       "19         0113      25           292    X\n",
       "18         0114      12           304    X\n",
       "17         0115      30           334    X\n",
       "16         0116      14           348    X\n",
       "15         0117      24           372    X\n",
       "14         0118      26           398    X\n",
       "13         0119      23           421    X\n",
       "12         0120      26           447    X\n",
       "11         0121      20           467    X\n",
       "10         0122      25           492    X\n",
       "9          0123      27           519    X\n",
       "8          0124      14           533    X\n",
       "7          0125      24           557    X\n",
       "6          0126      25           582    X\n",
       "5          0127      26           608    X\n",
       "4          0128      24           632    X\n",
       "3          0129      10           642    X\n",
       "2          0130       9           651    X\n",
       "1          0131       8           659    X\n",
       "0          0201       6           665    X"
      ]
     },
     "execution_count": 74,
     "metadata": {},
     "output_type": "execute_result"
    }
   ],
   "source": [
    "df"
   ]
  },
  {
   "cell_type": "code",
   "execution_count": 58,
   "metadata": {
    "collapsed": false
   },
   "outputs": [
    {
     "data": {
      "text/plain": [
       "25"
      ]
     },
     "execution_count": 58,
     "metadata": {},
     "output_type": "execute_result"
    }
   ],
   "source": [
    "len(persons('li'))"
   ]
  },
  {
   "cell_type": "code",
   "execution_count": 16,
   "metadata": {
    "collapsed": false
   },
   "outputs": [
    {
     "data": {
      "text/plain": [
       "{'': '00',\n",
       " 'April': '04',\n",
       " 'August': '08',\n",
       " 'December': '12',\n",
       " 'February': '02',\n",
       " 'January': '01',\n",
       " 'July': '07',\n",
       " 'June': '06',\n",
       " 'March': '03',\n",
       " 'May': '05',\n",
       " 'November': '11',\n",
       " 'October': '10',\n",
       " 'September': '09'}"
      ]
     },
     "execution_count": 16,
     "metadata": {},
     "output_type": "execute_result"
    }
   ],
   "source": [
    "month_dict"
   ]
  }
 ],
 "metadata": {
  "anaconda-cloud": {},
  "kernelspec": {
   "display_name": "Python [default]",
   "language": "python",
   "name": "python3"
  },
  "language_info": {
   "codemirror_mode": {
    "name": "ipython",
    "version": 3
   },
   "file_extension": ".py",
   "mimetype": "text/x-python",
   "name": "python",
   "nbconvert_exporter": "python",
   "pygments_lexer": "ipython3",
   "version": "3.5.2"
  }
 },
 "nbformat": 4,
 "nbformat_minor": 1
}
