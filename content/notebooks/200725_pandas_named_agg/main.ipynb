{
 "cells": [
  {
   "cell_type": "markdown",
   "metadata": {
    "toc": true
   },
   "source": [
    "<h1>Table of Contents<span class=\"tocSkip\"></span></h1>\n",
    "<div class=\"toc\"><ul class=\"toc-item\"><li><span><a href=\"#Dataset\" data-toc-modified-id=\"Dataset-1\"><span class=\"toc-item-num\">1&nbsp;&nbsp;</span>Dataset</a></span></li><li><span><a href=\"#Group-By\" data-toc-modified-id=\"Group-By-2\"><span class=\"toc-item-num\">2&nbsp;&nbsp;</span>Group By</a></span><ul class=\"toc-item\"><li><span><a href=\"#The-easy-stuff\" data-toc-modified-id=\"The-easy-stuff-2.1\"><span class=\"toc-item-num\">2.1&nbsp;&nbsp;</span>The easy stuff</a></span></li><li><span><a href=\"#It's-getting-more-complex\" data-toc-modified-id=\"It's-getting-more-complex-2.2\"><span class=\"toc-item-num\">2.2&nbsp;&nbsp;</span>It's getting more complex</a></span></li><li><span><a href=\"#Replacing-the-as-keyword-from-SQL\" data-toc-modified-id=\"Replacing-the-as-keyword-from-SQL-2.3\"><span class=\"toc-item-num\">2.3&nbsp;&nbsp;</span>Replacing the <code>as</code> keyword from SQL</a></span></li><li><span><a href=\"#You-need-pd.NamedAgg\" data-toc-modified-id=\"You-need-pd.NamedAgg-2.4\"><span class=\"toc-item-num\">2.4&nbsp;&nbsp;</span>You need <code>pd.NamedAgg</code></a></span></li></ul></li><li><span><a href=\"#Complex-agg-function\" data-toc-modified-id=\"Complex-agg-function-3\"><span class=\"toc-item-num\">3&nbsp;&nbsp;</span>Complex <code>agg</code> function</a></span><ul class=\"toc-item\"><li><span><a href=\"#You-don't-really-need-pd.NamedAgg\" data-toc-modified-id=\"You-don't-really-need-pd.NamedAgg-3.1\"><span class=\"toc-item-num\">3.1&nbsp;&nbsp;</span>You don't really need <code>pd.NamedAgg</code></a></span></li></ul></li><li><span><a href=\"#tl;dr\" data-toc-modified-id=\"tl;dr-4\"><span class=\"toc-item-num\">4&nbsp;&nbsp;</span>tl;dr</a></span><ul class=\"toc-item\"><li><span><a href=\"#Syntax\" data-toc-modified-id=\"Syntax-4.1\"><span class=\"toc-item-num\">4.1&nbsp;&nbsp;</span>Syntax</a></span></li><li><span><a href=\"#Example\" data-toc-modified-id=\"Example-4.2\"><span class=\"toc-item-num\">4.2&nbsp;&nbsp;</span>Example</a></span></li></ul></li></ul></div>"
   ]
  },
  {
   "cell_type": "markdown",
   "metadata": {},
   "source": [
    "It is relatively old now, but on version 0.25, `pandas` introduced [`NamedAgg`](https://pandas-docs.github.io/pandas-docs-travis/whatsnew/v0.25.0.html#groupby-aggregation-with-relabeling). It is mostly a convenience, it's not __huge__, but for me, it's life-changing.  \n",
    "The `as` keyword from SQL is a wonderful one. You can create a complex function on a database column, and then give it an explicit name. This name can be used later in the pipeline as a reference, or even just as-is for convenience when reading the table.  \n",
    "`pandas`, even though superior to SQL in so many ways, really lacked this until fairly recently. You either do a renaming stage, after receiving multi-index columns or feed the `agg` function with a complex dictionary structure. With `NamedAgg`, it becomes as easy as the `as` keyword, and in my mind, even more elegant."
   ]
  },
  {
   "cell_type": "code",
   "execution_count": 84,
   "metadata": {
    "ExecuteTime": {
     "end_time": "2020-08-17T08:35:36.107052Z",
     "start_time": "2020-08-17T08:35:36.095993Z"
    }
   },
   "outputs": [],
   "source": [
    "import pandas as pd"
   ]
  },
  {
   "cell_type": "markdown",
   "metadata": {},
   "source": [
    "# Dataset"
   ]
  },
  {
   "cell_type": "markdown",
   "metadata": {},
   "source": [
    "Let's load the [wine](https://scikit-learn.org/stable/datasets/index.html#wine-dataset) dataset and play with it a bit."
   ]
  },
  {
   "cell_type": "code",
   "execution_count": 85,
   "metadata": {
    "ExecuteTime": {
     "end_time": "2020-08-17T08:35:36.136359Z",
     "start_time": "2020-08-17T08:35:36.113149Z"
    }
   },
   "outputs": [
    {
     "data": {
      "text/html": [
       "<div>\n",
       "<style scoped>\n",
       "    .dataframe tbody tr th:only-of-type {\n",
       "        vertical-align: middle;\n",
       "    }\n",
       "\n",
       "    .dataframe tbody tr th {\n",
       "        vertical-align: top;\n",
       "    }\n",
       "\n",
       "    .dataframe thead th {\n",
       "        text-align: right;\n",
       "    }\n",
       "</style>\n",
       "<table border=\"1\" class=\"dataframe\">\n",
       "  <thead>\n",
       "    <tr style=\"text-align: right;\">\n",
       "      <th></th>\n",
       "      <th>alcohol</th>\n",
       "      <th>color_intensity</th>\n",
       "      <th>hue</th>\n",
       "      <th>class</th>\n",
       "    </tr>\n",
       "  </thead>\n",
       "  <tbody>\n",
       "    <tr>\n",
       "      <th>124</th>\n",
       "      <td>11.87</td>\n",
       "      <td>2.80</td>\n",
       "      <td>0.75</td>\n",
       "      <td>class_1</td>\n",
       "    </tr>\n",
       "    <tr>\n",
       "      <th>86</th>\n",
       "      <td>12.16</td>\n",
       "      <td>2.45</td>\n",
       "      <td>1.33</td>\n",
       "      <td>class_1</td>\n",
       "    </tr>\n",
       "    <tr>\n",
       "      <th>163</th>\n",
       "      <td>12.96</td>\n",
       "      <td>5.28</td>\n",
       "      <td>0.68</td>\n",
       "      <td>class_2</td>\n",
       "    </tr>\n",
       "    <tr>\n",
       "      <th>4</th>\n",
       "      <td>13.24</td>\n",
       "      <td>4.32</td>\n",
       "      <td>1.04</td>\n",
       "      <td>class_0</td>\n",
       "    </tr>\n",
       "    <tr>\n",
       "      <th>166</th>\n",
       "      <td>13.45</td>\n",
       "      <td>10.68</td>\n",
       "      <td>0.85</td>\n",
       "      <td>class_2</td>\n",
       "    </tr>\n",
       "    <tr>\n",
       "      <th>137</th>\n",
       "      <td>12.53</td>\n",
       "      <td>5.00</td>\n",
       "      <td>0.82</td>\n",
       "      <td>class_2</td>\n",
       "    </tr>\n",
       "  </tbody>\n",
       "</table>\n",
       "</div>"
      ],
      "text/plain": [
       "     alcohol  color_intensity   hue    class\n",
       "124    11.87             2.80  0.75  class_1\n",
       "86     12.16             2.45  1.33  class_1\n",
       "163    12.96             5.28  0.68  class_2\n",
       "4      13.24             4.32  1.04  class_0\n",
       "166    13.45            10.68  0.85  class_2\n",
       "137    12.53             5.00  0.82  class_2"
      ]
     },
     "execution_count": 85,
     "metadata": {},
     "output_type": "execute_result"
    }
   ],
   "source": [
    "from sklearn.datasets import load_wine\n",
    "wine = load_wine()\n",
    "df = pd.DataFrame(wine['data'], columns=wine['feature_names']).loc[:, ['alcohol','color_intensity', 'hue']]\n",
    "df['class'] = ['class_' + str(x) for x in wine['target']]\n",
    "df.sample(6)"
   ]
  },
  {
   "cell_type": "markdown",
   "metadata": {},
   "source": [
    "# Group By"
   ]
  },
  {
   "cell_type": "markdown",
   "metadata": {},
   "source": [
    "Pandas `.groupby` always had a lot of flexability, but it was not perfect. Until lately. Let's start with the basics.\n",
    "If you just want one aggregation function, and it happens to be a very basic one, just call it."
   ]
  },
  {
   "cell_type": "markdown",
   "metadata": {},
   "source": [
    "## The easy stuff"
   ]
  },
  {
   "cell_type": "code",
   "execution_count": 86,
   "metadata": {
    "ExecuteTime": {
     "end_time": "2020-08-17T08:35:36.149572Z",
     "start_time": "2020-08-17T08:35:36.138158Z"
    }
   },
   "outputs": [
    {
     "data": {
      "text/html": [
       "<div>\n",
       "<style scoped>\n",
       "    .dataframe tbody tr th:only-of-type {\n",
       "        vertical-align: middle;\n",
       "    }\n",
       "\n",
       "    .dataframe tbody tr th {\n",
       "        vertical-align: top;\n",
       "    }\n",
       "\n",
       "    .dataframe thead th {\n",
       "        text-align: right;\n",
       "    }\n",
       "</style>\n",
       "<table border=\"1\" class=\"dataframe\">\n",
       "  <thead>\n",
       "    <tr style=\"text-align: right;\">\n",
       "      <th></th>\n",
       "      <th>alcohol</th>\n",
       "      <th>color_intensity</th>\n",
       "      <th>hue</th>\n",
       "    </tr>\n",
       "    <tr>\n",
       "      <th>class</th>\n",
       "      <th></th>\n",
       "      <th></th>\n",
       "      <th></th>\n",
       "    </tr>\n",
       "  </thead>\n",
       "  <tbody>\n",
       "    <tr>\n",
       "      <th>class_0</th>\n",
       "      <td>810.94</td>\n",
       "      <td>326.170000</td>\n",
       "      <td>62.660</td>\n",
       "    </tr>\n",
       "    <tr>\n",
       "      <th>class_1</th>\n",
       "      <td>871.79</td>\n",
       "      <td>219.150000</td>\n",
       "      <td>74.996</td>\n",
       "    </tr>\n",
       "    <tr>\n",
       "      <th>class_2</th>\n",
       "      <td>631.38</td>\n",
       "      <td>355.019999</td>\n",
       "      <td>32.770</td>\n",
       "    </tr>\n",
       "  </tbody>\n",
       "</table>\n",
       "</div>"
      ],
      "text/plain": [
       "         alcohol  color_intensity     hue\n",
       "class                                    \n",
       "class_0   810.94       326.170000  62.660\n",
       "class_1   871.79       219.150000  74.996\n",
       "class_2   631.38       355.019999  32.770"
      ]
     },
     "execution_count": 86,
     "metadata": {},
     "output_type": "execute_result"
    }
   ],
   "source": [
    "df.groupby('class').sum()"
   ]
  },
  {
   "cell_type": "markdown",
   "metadata": {},
   "source": [
    "And you can also call it for only one column, and get back a `Series`."
   ]
  },
  {
   "cell_type": "code",
   "execution_count": 87,
   "metadata": {
    "ExecuteTime": {
     "end_time": "2020-08-17T08:35:36.158629Z",
     "start_time": "2020-08-17T08:35:36.151208Z"
    }
   },
   "outputs": [
    {
     "data": {
      "text/plain": [
       "class\n",
       "class_0    810.94\n",
       "class_1    871.79\n",
       "class_2    631.38\n",
       "Name: alcohol, dtype: float64"
      ]
     },
     "execution_count": 87,
     "metadata": {},
     "output_type": "execute_result"
    }
   ],
   "source": [
    "df.groupby('class').alcohol.sum()"
   ]
  },
  {
   "cell_type": "markdown",
   "metadata": {},
   "source": [
    "If you want more basic aggregations on this column, it's also not a problem."
   ]
  },
  {
   "cell_type": "code",
   "execution_count": 88,
   "metadata": {
    "ExecuteTime": {
     "end_time": "2020-08-17T08:35:36.169978Z",
     "start_time": "2020-08-17T08:35:36.160578Z"
    }
   },
   "outputs": [
    {
     "data": {
      "text/html": [
       "<div>\n",
       "<style scoped>\n",
       "    .dataframe tbody tr th:only-of-type {\n",
       "        vertical-align: middle;\n",
       "    }\n",
       "\n",
       "    .dataframe tbody tr th {\n",
       "        vertical-align: top;\n",
       "    }\n",
       "\n",
       "    .dataframe thead th {\n",
       "        text-align: right;\n",
       "    }\n",
       "</style>\n",
       "<table border=\"1\" class=\"dataframe\">\n",
       "  <thead>\n",
       "    <tr style=\"text-align: right;\">\n",
       "      <th></th>\n",
       "      <th>sum</th>\n",
       "      <th>count</th>\n",
       "    </tr>\n",
       "    <tr>\n",
       "      <th>class</th>\n",
       "      <th></th>\n",
       "      <th></th>\n",
       "    </tr>\n",
       "  </thead>\n",
       "  <tbody>\n",
       "    <tr>\n",
       "      <th>class_0</th>\n",
       "      <td>810.94</td>\n",
       "      <td>59</td>\n",
       "    </tr>\n",
       "    <tr>\n",
       "      <th>class_1</th>\n",
       "      <td>871.79</td>\n",
       "      <td>71</td>\n",
       "    </tr>\n",
       "    <tr>\n",
       "      <th>class_2</th>\n",
       "      <td>631.38</td>\n",
       "      <td>48</td>\n",
       "    </tr>\n",
       "  </tbody>\n",
       "</table>\n",
       "</div>"
      ],
      "text/plain": [
       "            sum  count\n",
       "class                 \n",
       "class_0  810.94     59\n",
       "class_1  871.79     71\n",
       "class_2  631.38     48"
      ]
     },
     "execution_count": 88,
     "metadata": {},
     "output_type": "execute_result"
    }
   ],
   "source": [
    "df.groupby('class').alcohol.agg(['sum','count'])"
   ]
  },
  {
   "cell_type": "markdown",
   "metadata": {},
   "source": [
    "## It's getting more complex\n",
    "Now let's say you need two aggregation functions, and on more than one column, but not all columns. It's becoming more complex, and the code gets less elegant.\n"
   ]
  },
  {
   "cell_type": "code",
   "execution_count": 89,
   "metadata": {
    "ExecuteTime": {
     "end_time": "2020-08-17T08:35:36.187355Z",
     "start_time": "2020-08-17T08:35:36.171933Z"
    }
   },
   "outputs": [
    {
     "data": {
      "text/html": [
       "<div>\n",
       "<style scoped>\n",
       "    .dataframe tbody tr th:only-of-type {\n",
       "        vertical-align: middle;\n",
       "    }\n",
       "\n",
       "    .dataframe tbody tr th {\n",
       "        vertical-align: top;\n",
       "    }\n",
       "\n",
       "    .dataframe thead tr th {\n",
       "        text-align: left;\n",
       "    }\n",
       "\n",
       "    .dataframe thead tr:last-of-type th {\n",
       "        text-align: right;\n",
       "    }\n",
       "</style>\n",
       "<table border=\"1\" class=\"dataframe\">\n",
       "  <thead>\n",
       "    <tr>\n",
       "      <th></th>\n",
       "      <th colspan=\"2\" halign=\"left\">alcohol</th>\n",
       "      <th colspan=\"2\" halign=\"left\">hue</th>\n",
       "    </tr>\n",
       "    <tr>\n",
       "      <th></th>\n",
       "      <th>sum</th>\n",
       "      <th>count</th>\n",
       "      <th>sum</th>\n",
       "      <th>count</th>\n",
       "    </tr>\n",
       "    <tr>\n",
       "      <th>class</th>\n",
       "      <th></th>\n",
       "      <th></th>\n",
       "      <th></th>\n",
       "      <th></th>\n",
       "    </tr>\n",
       "  </thead>\n",
       "  <tbody>\n",
       "    <tr>\n",
       "      <th>class_0</th>\n",
       "      <td>810.94</td>\n",
       "      <td>59</td>\n",
       "      <td>62.660</td>\n",
       "      <td>59</td>\n",
       "    </tr>\n",
       "    <tr>\n",
       "      <th>class_1</th>\n",
       "      <td>871.79</td>\n",
       "      <td>71</td>\n",
       "      <td>74.996</td>\n",
       "      <td>71</td>\n",
       "    </tr>\n",
       "    <tr>\n",
       "      <th>class_2</th>\n",
       "      <td>631.38</td>\n",
       "      <td>48</td>\n",
       "      <td>32.770</td>\n",
       "      <td>48</td>\n",
       "    </tr>\n",
       "  </tbody>\n",
       "</table>\n",
       "</div>"
      ],
      "text/plain": [
       "        alcohol           hue      \n",
       "            sum count     sum count\n",
       "class                              \n",
       "class_0  810.94    59  62.660    59\n",
       "class_1  871.79    71  74.996    71\n",
       "class_2  631.38    48  32.770    48"
      ]
     },
     "execution_count": 89,
     "metadata": {},
     "output_type": "execute_result"
    }
   ],
   "source": [
    "df.groupby('class')[['alcohol','hue']].agg(['sum','count'])"
   ]
  },
  {
   "cell_type": "markdown",
   "metadata": {
    "ExecuteTime": {
     "end_time": "2020-07-30T10:34:27.454188Z",
     "start_time": "2020-07-30T10:34:27.434986Z"
    }
   },
   "source": [
    "Notice how pandas created a `MultiIndex` on the columns. A `MultiIndex` has many advantages for efficiency, but when we are exploring data on reasonably sized datasets, they are harder to work with. I'd rather have a flat index. Flat indices are much easier to work with as they have very explicit means of accessing.\n",
    "Also, maybe I don't need __all__ functions on __all__ columns? Perhaps I only need the sum of alcohol and the count of hue?"
   ]
  },
  {
   "cell_type": "markdown",
   "metadata": {},
   "source": [
    "## Replacing the `as` keyword from SQL\n",
    "SQL provides an important keyword when using `group by`. The `as` keyword essentially lets you call whichever aggregation function you want. If I want two different aggregation functions,  on two separate columns, simply write the functions and give them a new name.\n",
    "```sql\n",
    "SELECT class, sum(alcohol) as sum_alcohol, count(hue) as count_hue\n",
    "from df\n",
    "group by class\n",
    "```\n",
    "\n",
    "It used to be hard replicating that. You needed a very confusing dictionary structure that looked like this\n",
    "```python\n",
    "df.groupby('class').agg({\n",
    "    'alcohol': {\n",
    "        'sum_alcohol': 'sum'\n",
    "    },\n",
    "    'hue': {\n",
    "        'count_hue': 'count'\n",
    "    }\n",
    "})\n",
    "```\n",
    "\n",
    "It would have worked, but first of all, it's pretty not very elegant with all those nested dicts, and it would still return a `MultiIndex` on the columns.  \n",
    "The solution comes with `pd.NamedAgg`. The way to use it is still with the agg function, which now accepts `**kwargs`. Just provide it with a `NamedAgg` using the following template.\n",
    "\n",
    "\n",
    "|Language|Syntax|\n",
    "|:--|---|\n",
    "|SQL|`f(column) as my_column name`|\n",
    "|pandas|`my_column_name=pd.NamedAgg(column, f)`|\n",
    "\n",
    "\n",
    "Let's see."
   ]
  },
  {
   "cell_type": "markdown",
   "metadata": {},
   "source": [
    "## You need `pd.NamedAgg`"
   ]
  },
  {
   "cell_type": "code",
   "execution_count": 90,
   "metadata": {
    "ExecuteTime": {
     "end_time": "2020-08-17T08:35:36.205318Z",
     "start_time": "2020-08-17T08:35:36.189469Z"
    }
   },
   "outputs": [
    {
     "data": {
      "text/html": [
       "<div>\n",
       "<style scoped>\n",
       "    .dataframe tbody tr th:only-of-type {\n",
       "        vertical-align: middle;\n",
       "    }\n",
       "\n",
       "    .dataframe tbody tr th {\n",
       "        vertical-align: top;\n",
       "    }\n",
       "\n",
       "    .dataframe thead th {\n",
       "        text-align: right;\n",
       "    }\n",
       "</style>\n",
       "<table border=\"1\" class=\"dataframe\">\n",
       "  <thead>\n",
       "    <tr style=\"text-align: right;\">\n",
       "      <th></th>\n",
       "      <th>sum_alcohol</th>\n",
       "      <th>count_hue</th>\n",
       "    </tr>\n",
       "    <tr>\n",
       "      <th>class</th>\n",
       "      <th></th>\n",
       "      <th></th>\n",
       "    </tr>\n",
       "  </thead>\n",
       "  <tbody>\n",
       "    <tr>\n",
       "      <th>class_0</th>\n",
       "      <td>810.94</td>\n",
       "      <td>59</td>\n",
       "    </tr>\n",
       "    <tr>\n",
       "      <th>class_1</th>\n",
       "      <td>871.79</td>\n",
       "      <td>71</td>\n",
       "    </tr>\n",
       "    <tr>\n",
       "      <th>class_2</th>\n",
       "      <td>631.38</td>\n",
       "      <td>48</td>\n",
       "    </tr>\n",
       "  </tbody>\n",
       "</table>\n",
       "</div>"
      ],
      "text/plain": [
       "         sum_alcohol  count_hue\n",
       "class                          \n",
       "class_0       810.94         59\n",
       "class_1       871.79         71\n",
       "class_2       631.38         48"
      ]
     },
     "execution_count": 90,
     "metadata": {},
     "output_type": "execute_result"
    }
   ],
   "source": [
    "df.groupby('class').agg(\n",
    "    sum_alcohol = pd.NamedAgg('alcohol', 'sum'),\n",
    "    count_hue = pd.NamedAgg('hue', 'count')\n",
    ")"
   ]
  },
  {
   "cell_type": "markdown",
   "metadata": {},
   "source": [
    "This is clear, concise, and tells a story that is easy to follow with the analysis intent. Also, it is easy to use it with comment switches. If I want to turn some aggregation on and off, comment out its line."
   ]
  },
  {
   "cell_type": "markdown",
   "metadata": {},
   "source": [
    "# Complex `agg` function\n",
    "The `agg` method is very robust. One of its coolest behaviors is its ability to accept lambda functions."
   ]
  },
  {
   "cell_type": "code",
   "execution_count": 91,
   "metadata": {
    "ExecuteTime": {
     "end_time": "2020-08-17T08:35:36.225785Z",
     "start_time": "2020-08-17T08:35:36.207528Z"
    }
   },
   "outputs": [
    {
     "data": {
      "text/html": [
       "<div>\n",
       "<style scoped>\n",
       "    .dataframe tbody tr th:only-of-type {\n",
       "        vertical-align: middle;\n",
       "    }\n",
       "\n",
       "    .dataframe tbody tr th {\n",
       "        vertical-align: top;\n",
       "    }\n",
       "\n",
       "    .dataframe thead tr th {\n",
       "        text-align: left;\n",
       "    }\n",
       "\n",
       "    .dataframe thead tr:last-of-type th {\n",
       "        text-align: right;\n",
       "    }\n",
       "</style>\n",
       "<table border=\"1\" class=\"dataframe\">\n",
       "  <thead>\n",
       "    <tr>\n",
       "      <th></th>\n",
       "      <th colspan=\"2\" halign=\"left\">alcohol</th>\n",
       "      <th colspan=\"2\" halign=\"left\">hue</th>\n",
       "    </tr>\n",
       "    <tr>\n",
       "      <th></th>\n",
       "      <th>sum</th>\n",
       "      <th>count</th>\n",
       "      <th>min</th>\n",
       "      <th>&lt;lambda_0&gt;</th>\n",
       "    </tr>\n",
       "    <tr>\n",
       "      <th>class</th>\n",
       "      <th></th>\n",
       "      <th></th>\n",
       "      <th></th>\n",
       "      <th></th>\n",
       "    </tr>\n",
       "  </thead>\n",
       "  <tbody>\n",
       "    <tr>\n",
       "      <th>class_0</th>\n",
       "      <td>810.94</td>\n",
       "      <td>59</td>\n",
       "      <td>0.82</td>\n",
       "      <td>1.055648</td>\n",
       "    </tr>\n",
       "    <tr>\n",
       "      <th>class_1</th>\n",
       "      <td>871.79</td>\n",
       "      <td>71</td>\n",
       "      <td>0.69</td>\n",
       "      <td>1.037434</td>\n",
       "    </tr>\n",
       "    <tr>\n",
       "      <th>class_2</th>\n",
       "      <td>631.38</td>\n",
       "      <td>48</td>\n",
       "      <td>0.48</td>\n",
       "      <td>0.673688</td>\n",
       "    </tr>\n",
       "  </tbody>\n",
       "</table>\n",
       "</div>"
      ],
      "text/plain": [
       "        alcohol         hue           \n",
       "            sum count   min <lambda_0>\n",
       "class                                 \n",
       "class_0  810.94    59  0.82   1.055648\n",
       "class_1  871.79    71  0.69   1.037434\n",
       "class_2  631.38    48  0.48   0.673688"
      ]
     },
     "execution_count": 91,
     "metadata": {},
     "output_type": "execute_result"
    }
   ],
   "source": [
    "df.groupby('class').agg({'alcohol':['sum', 'count'], 'hue': ['min', lambda x: x.prod() ** (1 / len(x))]})"
   ]
  },
  {
   "cell_type": "markdown",
   "metadata": {},
   "source": [
    "But as you can observe, we remain with a `MultiIndex` on columns and a column named `<lambda_0>`. Renaming this, and would be hell. Imagine reading your own code 6 months from now, when you suddenly meet this line: `df.rename(columns={'<lambda_0>':'geomean'})`.  Blah 🤢.\n",
    "`pandas` will give it a readable name if you use `def function(x): ` but, that may sometimes have the overhead of writing small unnecessary functions.\n",
    "`NamedAgg` takes care of all this hassle. It can easily be fed lambda functions with names given on the `agg` method."
   ]
  },
  {
   "cell_type": "code",
   "execution_count": 92,
   "metadata": {
    "ExecuteTime": {
     "end_time": "2020-08-17T08:35:36.244877Z",
     "start_time": "2020-08-17T08:35:36.227534Z"
    }
   },
   "outputs": [
    {
     "data": {
      "text/html": [
       "<div>\n",
       "<style scoped>\n",
       "    .dataframe tbody tr th:only-of-type {\n",
       "        vertical-align: middle;\n",
       "    }\n",
       "\n",
       "    .dataframe tbody tr th {\n",
       "        vertical-align: top;\n",
       "    }\n",
       "\n",
       "    .dataframe thead th {\n",
       "        text-align: right;\n",
       "    }\n",
       "</style>\n",
       "<table border=\"1\" class=\"dataframe\">\n",
       "  <thead>\n",
       "    <tr style=\"text-align: right;\">\n",
       "      <th></th>\n",
       "      <th>sum_alcohol</th>\n",
       "      <th>geomean_of_hue</th>\n",
       "    </tr>\n",
       "    <tr>\n",
       "      <th>class</th>\n",
       "      <th></th>\n",
       "      <th></th>\n",
       "    </tr>\n",
       "  </thead>\n",
       "  <tbody>\n",
       "    <tr>\n",
       "      <th>class_0</th>\n",
       "      <td>810.94</td>\n",
       "      <td>1.055648</td>\n",
       "    </tr>\n",
       "    <tr>\n",
       "      <th>class_1</th>\n",
       "      <td>871.79</td>\n",
       "      <td>1.037434</td>\n",
       "    </tr>\n",
       "    <tr>\n",
       "      <th>class_2</th>\n",
       "      <td>631.38</td>\n",
       "      <td>0.673688</td>\n",
       "    </tr>\n",
       "  </tbody>\n",
       "</table>\n",
       "</div>"
      ],
      "text/plain": [
       "         sum_alcohol  geomean_of_hue\n",
       "class                               \n",
       "class_0       810.94        1.055648\n",
       "class_1       871.79        1.037434\n",
       "class_2       631.38        0.673688"
      ]
     },
     "execution_count": 92,
     "metadata": {},
     "output_type": "execute_result"
    }
   ],
   "source": [
    "df.groupby('class').agg(\n",
    "    sum_alcohol = pd.NamedAgg('alcohol', 'sum'),\n",
    "    geomean_of_hue = pd.NamedAgg('hue', lambda x: x.prod() ** (1 / len(x)))\n",
    ")"
   ]
  },
  {
   "cell_type": "markdown",
   "metadata": {},
   "source": [
    "## You don't really need `pd.NamedAgg`\n",
    "In reality, if you feed `agg` with many `**kwargs`, all have a parameter name and `tuple` as a value, maybe there's no need to write `pd.NamedAgg` every time?  \n",
    "Indeed, `NamedAgg` more than being an API innovation, it's a framework innovation. It is its own class, but this class is more of a blueprint."
   ]
  },
  {
   "cell_type": "code",
   "execution_count": 93,
   "metadata": {
    "ExecuteTime": {
     "end_time": "2020-08-17T08:35:36.251241Z",
     "start_time": "2020-08-17T08:35:36.247103Z"
    }
   },
   "outputs": [
    {
     "name": "stdout",
     "output_type": "stream",
     "text": [
      "NamedAgg(column='tmp_col', aggfunc='somefunc')\n",
      "<class 'pandas.core.groupby.generic.NamedAgg'>\n"
     ]
    }
   ],
   "source": [
    "tmp_agg = pd.NamedAgg('tmp_col', 'somefunc')\n",
    "print(tmp_agg)\n",
    "print(type(tmp_agg))"
   ]
  },
  {
   "cell_type": "markdown",
   "metadata": {},
   "source": [
    "You can see that it can be instantiated with a non-existing function, on a non-existing column name, without a dataframe. It will only try to work inside an aggregation.\n",
    "The `agg` method is smart enough. When given many `**kwargs` as tuples, it knows it should instantiate them as `NamedAgg`s. And this is where it ends, with this beautiful `groupby` aggregation, that finally, truly replaces the `as` keyword from SQL."
   ]
  },
  {
   "cell_type": "code",
   "execution_count": 94,
   "metadata": {
    "ExecuteTime": {
     "end_time": "2020-08-17T08:35:36.271309Z",
     "start_time": "2020-08-17T08:35:36.253792Z"
    }
   },
   "outputs": [
    {
     "data": {
      "text/html": [
       "<div>\n",
       "<style scoped>\n",
       "    .dataframe tbody tr th:only-of-type {\n",
       "        vertical-align: middle;\n",
       "    }\n",
       "\n",
       "    .dataframe tbody tr th {\n",
       "        vertical-align: top;\n",
       "    }\n",
       "\n",
       "    .dataframe thead th {\n",
       "        text-align: right;\n",
       "    }\n",
       "</style>\n",
       "<table border=\"1\" class=\"dataframe\">\n",
       "  <thead>\n",
       "    <tr style=\"text-align: right;\">\n",
       "      <th></th>\n",
       "      <th>sum_alcohol</th>\n",
       "      <th>geomean_of_hue</th>\n",
       "    </tr>\n",
       "    <tr>\n",
       "      <th>class</th>\n",
       "      <th></th>\n",
       "      <th></th>\n",
       "    </tr>\n",
       "  </thead>\n",
       "  <tbody>\n",
       "    <tr>\n",
       "      <th>class_0</th>\n",
       "      <td>810.94</td>\n",
       "      <td>1.055648</td>\n",
       "    </tr>\n",
       "    <tr>\n",
       "      <th>class_1</th>\n",
       "      <td>871.79</td>\n",
       "      <td>1.037434</td>\n",
       "    </tr>\n",
       "    <tr>\n",
       "      <th>class_2</th>\n",
       "      <td>631.38</td>\n",
       "      <td>0.673688</td>\n",
       "    </tr>\n",
       "  </tbody>\n",
       "</table>\n",
       "</div>"
      ],
      "text/plain": [
       "         sum_alcohol  geomean_of_hue\n",
       "class                               \n",
       "class_0       810.94        1.055648\n",
       "class_1       871.79        1.037434\n",
       "class_2       631.38        0.673688"
      ]
     },
     "execution_count": 94,
     "metadata": {},
     "output_type": "execute_result"
    }
   ],
   "source": [
    "df.groupby('class').agg(\n",
    "    sum_alcohol = ('alcohol', 'sum'),\n",
    "    geomean_of_hue = ('hue', lambda x: x.prod() ** (1 / len(x)))\n",
    ")"
   ]
  },
  {
   "cell_type": "markdown",
   "metadata": {},
   "source": [
    "# tl;dr"
   ]
  },
  {
   "cell_type": "markdown",
   "metadata": {},
   "source": [
    "## Syntax"
   ]
  },
  {
   "cell_type": "markdown",
   "metadata": {},
   "source": [
    "|Language|Syntax|\n",
    "|:--|---|\n",
    "|SQL|`f(column) as my_column_name`|\n",
    "|old pandas|`{{column: {my_column_name: f}}`|\n",
    "|pandas|`my_column_name = pd.NamedAgg(column, f)`|\n",
    "|better pandas|`my_column_name = (column, f)`|"
   ]
  },
  {
   "cell_type": "markdown",
   "metadata": {},
   "source": [
    "## Example"
   ]
  },
  {
   "cell_type": "markdown",
   "metadata": {
    "ExecuteTime": {
     "end_time": "2020-08-16T20:40:32.046219Z",
     "start_time": "2020-08-16T20:40:32.042771Z"
    }
   },
   "source": [
    "<table>\n",
    "<thead>\n",
    "  <tr>\n",
    "    <th>SQL</th>\n",
    "    <th>pandas</th>\n",
    "  </tr>\n",
    "</thead>\n",
    "<tbody>\n",
    "  <tr>\n",
    "    <td><pre>SELECT class, sum(alcohol) as sum_alcohol, count(hue) as count_hue<br>from df<br>group by class</pre></td>\n",
    "    <td><pre>df.groupby('class').agg(<br>    sum_alcohol = ('alcohol', 'sum'),<br>    count_hue = ('hue', 'count)<br>)</pre></td>\n",
    "  </tr>\n",
    "</tbody>\n",
    "</table>"
   ]
  }
 ],
 "metadata": {
  "kernelspec": {
   "display_name": "Python 3",
   "language": "python",
   "name": "python3"
  },
  "language_info": {
   "codemirror_mode": {
    "name": "ipython",
    "version": 3
   },
   "file_extension": ".py",
   "mimetype": "text/x-python",
   "name": "python",
   "nbconvert_exporter": "python",
   "pygments_lexer": "ipython3",
   "version": "3.6.4"
  },
  "toc": {
   "base_numbering": 1,
   "nav_menu": {},
   "number_sections": true,
   "sideBar": true,
   "skip_h1_title": false,
   "title_cell": "Table of Contents",
   "title_sidebar": "Contents",
   "toc_cell": true,
   "toc_position": {},
   "toc_section_display": true,
   "toc_window_display": true
  }
 },
 "nbformat": 4,
 "nbformat_minor": 2
}
